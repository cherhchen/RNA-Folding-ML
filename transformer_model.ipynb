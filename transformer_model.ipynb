{
 "cells": [
  {
   "cell_type": "markdown",
   "metadata": {},
   "source": [
    "<h1>RNA Folding Transformer Encoder Model"
   ]
  },
  {
   "cell_type": "markdown",
   "metadata": {},
   "source": [
    "<h3>Import and Load Data"
   ]
  },
  {
   "cell_type": "code",
   "execution_count": 2,
   "metadata": {},
   "outputs": [],
   "source": [
    "import numpy as np\n",
    "import pandas as pd\n",
    "import matplotlib.pyplot as plt\n",
    "import torch\n",
    "from sklearn.model_selection import train_test_split\n",
    "import tensorflow as tf\n",
    "from keras import Sequential\n",
    "from keras.layers import LSTM, Dense, Dropout \n",
    "from keras.optimizers import AdamW\n",
    "import torch.nn as nn\n",
    "import torch.optim as optim\n",
    "import torch.utils.data as data\n",
    "import math\n",
    "import copy\n",
    "import keras\n",
    "import keras_nlp\n",
    "from keras import layers"
   ]
  },
  {
   "cell_type": "code",
   "execution_count": 8,
   "metadata": {},
   "outputs": [],
   "source": [
    "train = pd.read_csv('train_data_QUICK_START.csv')\n",
    "test = pd.read_csv('test_sequences.csv')"
   ]
  },
  {
   "cell_type": "markdown",
   "metadata": {},
   "source": [
    "<h3>Preprocessing\n"
   ]
  },
  {
   "cell_type": "code",
   "execution_count": 9,
   "metadata": {},
   "outputs": [],
   "source": [
    "df_2A3 = train[train['experiment_type'] == '2A3_MaP']\n",
    "df_DMS = train[train['experiment_type'] == 'DMS_MaP']"
   ]
  },
  {
   "cell_type": "code",
   "execution_count": 10,
   "metadata": {},
   "outputs": [],
   "source": [
    "# Add padding to sequence such that they are all 457 in length\n",
    "def pad_sequence(sequence, max_length=206, padding_value=\"Z\"):\n",
    "  # Calculate how many padding values are needed\n",
    "  padding_length = max_length - len(sequence)\n",
    "  # Create the padded sequence\n",
    "  padded_sequence = list(sequence) + [padding_value] * padding_length\n",
    "  return padded_sequence\n",
    "\n",
    "def encode_nuc(nuc):\n",
    "  nuc_map = {\n",
    "      \"A\": [1],\n",
    "      \"C\": [2],\n",
    "      \"G\": [3],\n",
    "      \"U\": [4],\n",
    "      \"Z\": [5]\n",
    "  }\n",
    "  try:\n",
    "      return nuc_map[nuc]\n",
    "  except:\n",
    "      print(f\"Error at nucleotide {nuc}\")\n",
    "\n",
    "def encode_sequence(sequence):\n",
    "  try:\n",
    "    return [encode_nuc(s) for s in sequence]\n",
    "  except:\n",
    "    print(f\"Error at sequence {sequence}\")\n",
    "\n",
    "# padded 2A3 and DMS\n",
    "encoded_2A3train = df_2A3.loc[:, ['sequence_id', 'sequence']]\n",
    "encoded_2A3train['padded_sequence'] = encoded_2A3train['sequence'].apply(pad_sequence)\n",
    "encoded_DMStrain = df_DMS.loc[:, ['sequence_id', 'sequence']]\n",
    "encoded_DMStrain['padded_sequence'] = encoded_DMStrain['sequence'].apply(pad_sequence)\n",
    "\n",
    "#fill 2A3 and DMS reactivities \n",
    "reactivities2A3 = df_2A3.iloc[:, 4:210]\n",
    "reactivities2A3.fillna(0, inplace = True)\n",
    "reactivitiesDMS = df_DMS.iloc[:, 4:210]\n",
    "reactivitiesDMS.fillna(0, inplace = True)\n",
    "\n",
    "# merge 2A3 and DMS\n",
    "#merge concat (sequences with reactivities)\n",
    "sequence2A3 = pd.concat([encoded_2A3train, reactivities2A3], axis=1)\n",
    "sequenceDMS = pd.concat([encoded_DMStrain, reactivitiesDMS], axis=1)\n",
    "#merge concat 2A3 and DMS\n",
    "df = pd.concat([sequence2A3,sequenceDMS], ignore_index = True)\n",
    "#clip values less than 0 = 0, since we know those are errors/ should be 0 at minimum. Values greater than 1 = 1\n",
    "num = df._get_numeric_data()\n",
    "num[num < 0] = 0\n",
    "num[num > 1] = 1"
   ]
  },
  {
   "cell_type": "code",
   "execution_count": 11,
   "metadata": {},
   "outputs": [],
   "source": [
    "#Encode Sequences\n",
    "df['encoded_sequence'] = df['padded_sequence'].apply(encode_sequence)"
   ]
  },
  {
   "cell_type": "code",
   "execution_count": 12,
   "metadata": {},
   "outputs": [],
   "source": [
    "sequences = df['encoded_sequence']\n",
    "reactivities = df.iloc[:, 3:209]"
   ]
  },
  {
   "cell_type": "markdown",
   "metadata": {},
   "source": [
    "<h3> Split Training and Testing Data"
   ]
  },
  {
   "cell_type": "code",
   "execution_count": 13,
   "metadata": {},
   "outputs": [],
   "source": [
    "X = sequences\n",
    "Y = reactivities"
   ]
  },
  {
   "cell_type": "code",
   "execution_count": 14,
   "metadata": {},
   "outputs": [
    {
     "name": "stdout",
     "output_type": "stream",
     "text": [
      "(268492,) (268492, 206)\n",
      "(67124,) (67124, 206)\n"
     ]
    }
   ],
   "source": [
    "#Split data into training and testing data\n",
    "X_train, X_test, Y_train, Y_test = train_test_split(X, Y, test_size = 0.2, random_state = 42)\n",
    "print(X_train.shape, Y_train.shape)\n",
    "print(X_test.shape, Y_test.shape)"
   ]
  },
  {
   "cell_type": "code",
   "execution_count": 15,
   "metadata": {},
   "outputs": [],
   "source": [
    "# Convert np arrays to tensors\n",
    "X_train_array = np.array([np.array(seq) for seq in X_train])\n",
    "X_test_array = np.array([np.array(seq) for seq in X_test])\n",
    "X_train = tf.convert_to_tensor(X_train_array)\n",
    "X_test = tf.convert_to_tensor(X_test_array)\n",
    "Y_train = tf.convert_to_tensor(Y_train.values)\n",
    "Y_test = tf.convert_to_tensor(Y_test.values)"
   ]
  },
  {
   "cell_type": "markdown",
   "metadata": {},
   "source": [
    "<h3> Set Up Transformer Block, Multihead Attention, and Layer Normalization"
   ]
  },
  {
   "cell_type": "code",
   "execution_count": 16,
   "metadata": {},
   "outputs": [],
   "source": [
    "class TransformerBlock(layers.Layer):\n",
    "    def __init__(self, embed_dim, num_heads, ff_dim, rate=0.01):\n",
    "        super().__init__()\n",
    "        self.att = layers.MultiHeadAttention(num_heads=num_heads, key_dim=embed_dim)\n",
    "        self.feedf = keras.Sequential(\n",
    "            [layers.Dense(ff_dim, activation=\"relu\"), layers.Dense(embed_dim),]\n",
    "        )\n",
    "        self.layer1 = layers.LayerNormalization(epsilon=1e-6)\n",
    "        self.layer2 = layers.LayerNormalization(epsilon=1e-6)\n",
    "        self.dropout1 = layers.Dropout(rate)\n",
    "        self.dropout2 = layers.Dropout(rate)\n",
    "\n",
    "    def call(self, inputs):\n",
    "        attention_output = self.att(inputs, inputs)\n",
    "        attention_output = self.dropout1(attention_output)\n",
    "        out1 = self.layer1(inputs + attention_output)\n",
    "        feedf_output = self.feedf(out1)\n",
    "        feedf_output = self.dropout2(feedf_output)\n",
    "        return self.layer2(out1 + feedf_output)"
   ]
  },
  {
   "cell_type": "markdown",
   "metadata": {},
   "source": [
    "<h3> Set Up Tokens and Position Embedding"
   ]
  },
  {
   "cell_type": "code",
   "execution_count": 17,
   "metadata": {},
   "outputs": [],
   "source": [
    "class PositionEmbedding(layers.Layer):\n",
    "    def __init__(self, maxlen, vocab_size, embed_dim):\n",
    "        super().__init__()\n",
    "        self.token_emb = layers.Embedding(input_dim=vocab_size, output_dim=embed_dim)\n",
    "        self.pos_emb = layers.Embedding(input_dim=maxlen, output_dim=embed_dim)\n",
    "\n",
    "    def call(self, x):\n",
    "        maxlen = tf.shape(x)[-1]\n",
    "        position = tf.range(start=0, limit=maxlen, delta=1)\n",
    "        position = self.pos_emb(position)\n",
    "        x = self.token_emb(x)\n",
    "        return x + position"
   ]
  },
  {
   "cell_type": "markdown",
   "metadata": {},
   "source": [
    "<h3> Train Model on Test Data"
   ]
  },
  {
   "cell_type": "code",
   "execution_count": 18,
   "metadata": {},
   "outputs": [],
   "source": [
    "#Hyperparameters\n",
    "vocab_size = 206\n",
    "maxlen = 206\n",
    "embed_dim = 128  # Embedding size for each token\n",
    "num_heads = 8  # Number of attention heads\n",
    "ff_dim = 128  # Hidden layer size in feed forward network inside transformer\n",
    "\n",
    "inputs = layers.Input(shape=(206,1))\n",
    "embed_layer = PositionEmbedding(maxlen, vocab_size, embed_dim)\n",
    "x = embed_layer(inputs)\n",
    "transformer_block = TransformerBlock(embed_dim, num_heads, ff_dim)\n",
    "x = transformer_block(x)\n",
    "x = layers.GlobalAveragePooling2D()(x)\n",
    "x = layers.Dropout(0.20)(x)\n",
    "x = layers.Dense(128, activation=\"relu\")(x)\n",
    "x = layers.Dropout(0.20)(x)\n",
    "x = layers.Dense(64, activation = \"relu\")(x)\n",
    "outputs = layers.Dense(206, activation=\"softmax\")(x)"
   ]
  },
  {
   "cell_type": "code",
   "execution_count": 47,
   "metadata": {},
   "outputs": [
    {
     "name": "stdout",
     "output_type": "stream",
     "text": [
      "Epoch 1/5\n",
      "\u001b[1m33562/33562\u001b[0m \u001b[32m━━━━━━━━━━━━━━━━━━━━\u001b[0m\u001b[37m\u001b[0m \u001b[1m3875s\u001b[0m 115ms/step - MeanAbsoluteError: 0.1504 - loss: 0.1504\n",
      "Epoch 2/5\n",
      "\u001b[1m33562/33562\u001b[0m \u001b[32m━━━━━━━━━━━━━━━━━━━━\u001b[0m\u001b[37m\u001b[0m \u001b[1m3273s\u001b[0m 98ms/step - MeanAbsoluteError: 0.1504 - loss: 0.1504\n",
      "Epoch 3/5\n",
      "\u001b[1m33562/33562\u001b[0m \u001b[32m━━━━━━━━━━━━━━━━━━━━\u001b[0m\u001b[37m\u001b[0m \u001b[1m3249s\u001b[0m 97ms/step - MeanAbsoluteError: 0.1503 - loss: 0.1503\n",
      "Epoch 4/5\n",
      "\u001b[1m33562/33562\u001b[0m \u001b[32m━━━━━━━━━━━━━━━━━━━━\u001b[0m\u001b[37m\u001b[0m \u001b[1m3261s\u001b[0m 97ms/step - MeanAbsoluteError: 0.1504 - loss: 0.1504\n",
      "Epoch 5/5\n",
      "\u001b[1m33562/33562\u001b[0m \u001b[32m━━━━━━━━━━━━━━━━━━━━\u001b[0m\u001b[37m\u001b[0m \u001b[1m3294s\u001b[0m 98ms/step - MeanAbsoluteError: 0.1504 - loss: 0.1504\n"
     ]
    }
   ],
   "source": [
    "model = tf.keras.Model(inputs=inputs, outputs=outputs)\n",
    "optimizer = AdamW(learning_rate=0.01)\n",
    "model.compile(optimizer=optimizer, loss='mean_absolute_error', metrics = [\"MeanAbsoluteError\"])\n",
    "history = model.fit(X_train, Y_train, batch_size=8, epochs=5)"
   ]
  },
  {
   "cell_type": "markdown",
   "metadata": {},
   "source": [
    "<h3> Plot Loss per Epoch"
   ]
  },
  {
   "cell_type": "code",
   "execution_count": 86,
   "metadata": {},
   "outputs": [
    {
     "data": {
      "image/png": "[encoded data removed]",
      "text/plain": [
       "<Figure size 640x480 with 1 Axes>"
      ]
     },
     "metadata": {},
     "output_type": "display_data"
    }
   ],
   "source": [
    "plt.plot(range(1, 6), history.history['MeanAbsoluteError'], label='Training Loss')\n",
    "plt.ylim(0.15030, .150317)\n",
    "plt.title('Training Loss')\n",
    "plt.xlabel('Epoch')\n",
    "plt.ylabel('Loss')\n",
    "plt.legend()\n",
    "plt.show()"
   ]
  },
  {
   "cell_type": "markdown",
   "metadata": {},
   "source": [
    "<h3> Evaluate on Testing Data"
   ]
  },
  {
   "cell_type": "code",
   "execution_count": 55,
   "metadata": {},
   "outputs": [
    {
     "name": "stdout",
     "output_type": "stream",
     "text": [
      "\u001b[1m672/672\u001b[0m \u001b[32m━━━━━━━━━━━━━━━━━━━━\u001b[0m\u001b[37m\u001b[0m \u001b[1m423s\u001b[0m 628ms/step - MeanAbsoluteError: 0.1502 - loss: 0.1502\n",
      "Mean Absolute Error on Test Set: [0.15019378066062927, 0.15020279586315155]\n"
     ]
    }
   ],
   "source": [
    "loss = model.evaluate(X_test, Y_test, batch_size=100)\n",
    "print(f\"Mean Absolute Error on Test Set: {loss}\")"
   ]
  }
 ],
 "metadata": {
  "kernelspec": {
   "display_name": "Python 3",
   "language": "python",
   "name": "python3"
  },
  "language_info": {
   "codemirror_mode": {
    "name": "ipython",
    "version": 3
   },
   "file_extension": ".py",
   "mimetype": "text/x-python",
   "name": "python",
   "nbconvert_exporter": "python",
   "pygments_lexer": "ipython3",
   "version": "3.11.0"
  }
 },
 "nbformat": 4,
 "nbformat_minor": 2
}
